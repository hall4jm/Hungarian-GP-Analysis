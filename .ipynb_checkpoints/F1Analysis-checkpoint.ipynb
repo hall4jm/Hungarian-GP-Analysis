{
 "cells": [
  {
   "cell_type": "code",
   "execution_count": 1,
   "metadata": {},
   "outputs": [],
   "source": [
    "import fastf1 as f1\n",
    "from fastf1 import *\n",
    "import pandas as pd"
   ]
  },
  {
   "cell_type": "code",
   "execution_count": 20,
   "metadata": {},
   "outputs": [
    {
     "name": "stderr",
     "output_type": "stream",
     "text": [
      "core           INFO \tLoading laps for São Paulo Grand Prix - Race [v2.1.13]\n",
      "api            INFO \tFetching timing data...\n",
      "api            INFO \tParsing timing data...\n",
      "api            INFO \tFetching timing app data...\n",
      "core           INFO \tProcessing timing data...\n",
      "api            INFO \tFetching driver list...\n",
      "api            INFO \tFetching session status data...\n",
      "api            INFO \tFetching track status data...\n",
      "api            INFO \tFetching car data...\n",
      "api            INFO \tParsing car data...\n",
      "api            INFO \tFetching position data...\n",
      "api            INFO \tParsing position data...\n",
      "api         WARNING \tDriver 241: Position data is incomplete!\n",
      "api         WARNING \tDriver 242: Position data is incomplete!\n",
      "api         WARNING \tDriver 243: Position data is incomplete!\n",
      "api            INFO \tFetching weather data...\n",
      "core           INFO \tLoaded data for 20 drivers: ['18', '44', '77', '6', '11', '4', '7', '5', '31', '10', '3', '63', '47', '14', '9', '55', '16', '33', '99', '22']\n"
     ]
    }
   ],
   "source": [
    "#Load data from Brazil grandprix\n",
    "race = f1.get_session(2021, 'Brazil', 'R')\n",
    "brazil_laps = race.load_laps(with_telemetry=True)"
   ]
  },
  {
   "cell_type": "code",
   "execution_count": 34,
   "metadata": {},
   "outputs": [
    {
     "name": "stdout",
     "output_type": "stream",
     "text": [
      "<class 'pandas.core.frame.DataFrame'>\n",
      "RangeIndex: 1360 entries, 0 to 1359\n",
      "Data columns (total 26 columns):\n",
      " #   Column              Non-Null Count  Dtype          \n",
      "---  ------              --------------  -----          \n",
      " 0   Time                1360 non-null   timedelta64[ns]\n",
      " 1   DriverNumber        1360 non-null   object         \n",
      " 2   LapTime             1339 non-null   timedelta64[ns]\n",
      " 3   LapNumber           1360 non-null   int64          \n",
      " 4   Stint               1360 non-null   int64          \n",
      " 5   PitOutTime          99 non-null     timedelta64[ns]\n",
      " 6   PitInTime           81 non-null     timedelta64[ns]\n",
      " 7   Sector1Time         1337 non-null   timedelta64[ns]\n",
      " 8   Sector2Time         1360 non-null   timedelta64[ns]\n",
      " 9   Sector3Time         1360 non-null   timedelta64[ns]\n",
      " 10  Sector1SessionTime  1337 non-null   timedelta64[ns]\n",
      " 11  Sector2SessionTime  1360 non-null   timedelta64[ns]\n",
      " 12  Sector3SessionTime  1360 non-null   timedelta64[ns]\n",
      " 13  SpeedI1             1150 non-null   float64        \n",
      " 14  SpeedI2             1360 non-null   float64        \n",
      " 15  SpeedFL             1279 non-null   float64        \n",
      " 16  SpeedST             1149 non-null   float64        \n",
      " 17  Compound            1360 non-null   object         \n",
      " 18  TyreLife            1310 non-null   float64        \n",
      " 19  FreshTyre           1099 non-null   object         \n",
      " 20  LapStartTime        1360 non-null   timedelta64[ns]\n",
      " 21  Team                1360 non-null   object         \n",
      " 22  Driver              1360 non-null   object         \n",
      " 23  TrackStatus         1360 non-null   object         \n",
      " 24  IsAccurate          1360 non-null   object         \n",
      " 25  LapStartDate        1360 non-null   datetime64[ns] \n",
      "dtypes: datetime64[ns](1), float64(5), int64(2), object(7), timedelta64[ns](11)\n",
      "memory usage: 276.4+ KB\n"
     ]
    }
   ],
   "source": [
    "#Convert laps object to dataframe\n",
    "laps = pd.DataFrame(brazil_laps.reset_index(drop = True))\n",
    "laps.info()"
   ]
  }
 ],
 "metadata": {
  "hide_input": false,
  "interpreter": {
   "hash": "2e918aaa81d99c652401bdd1a0c185581595fb477ac919641bd65261b5d7782a"
  },
  "kernelspec": {
   "display_name": "Python 3 (ipykernel)",
   "language": "python",
   "name": "python3"
  },
  "language_info": {
   "codemirror_mode": {
    "name": "ipython",
    "version": 3
   },
   "file_extension": ".py",
   "mimetype": "text/x-python",
   "name": "python",
   "nbconvert_exporter": "python",
   "pygments_lexer": "ipython3",
   "version": "3.8.13"
  },
  "toc": {
   "base_numbering": 1,
   "nav_menu": {},
   "number_sections": true,
   "sideBar": true,
   "skip_h1_title": false,
   "title_cell": "Table of Contents",
   "title_sidebar": "Contents",
   "toc_cell": false,
   "toc_position": {},
   "toc_section_display": true,
   "toc_window_display": false
  }
 },
 "nbformat": 4,
 "nbformat_minor": 2
}
